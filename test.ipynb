{
 "cells": [
  {
   "cell_type": "code",
   "execution_count": 9,
   "metadata": {},
   "outputs": [],
   "source": [
    "from dotenv import load_dotenv\n",
    "import os\n",
    "\n",
    "load_dotenv()\n",
    "\n",
    "api_key = os.getenv(\"OPENAI_API\")"
   ]
  },
  {
   "cell_type": "code",
   "execution_count": 15,
   "metadata": {},
   "outputs": [
    {
     "name": "stdout",
     "output_type": "stream",
     "text": [
      "물론입니다. 다음은 제공된 슬라이드 내용을 기반으로 작성된 프레젠테이션 스크립트입니다.\n",
      "\n",
      "---\n",
      "\n",
      "안녕하세요, 여러분. 오늘 저희 발표에 참석해 주셔서 감사합니다. 저는 여러분께 [슬라이드 1의 내용에서 회사명]의 접근성과 그 장점에 대해 말씀드리겠습니다.\n",
      "\n",
      "슬라이드 1에서는 저희 회사, 미리컴퍼니의 간단한 소개로 시작하겠습니다. 미리컴퍼니는 2023105744라는 코드와 함께, 'Simple test'라는 슬로건을 내세우고 있습니다. 저희는 고객들이 필요로 하는 간단한 테스트를 통해 더 나은 서비스를 제공하려고 합니다. 이 과정에서 'Text'라는 키워드를 통해 간결하고 명확한 정보를 전달하는 것이 목표입니다.\n",
      "\n",
      "다음으로, 슬라이드 2를 보시겠습니다. 이 슬라이드에서는 다양한 색상의 튤립으로 가득한 활기찬 들판의 모습이 담겨 있습니다. 빨강, 노랑, 하얀 색의 튤립들이 만개한 것들도 있고, 아직 봉오리 상태인 것도 있습니다. 이 장면은 저희 서비스가 어떻게 다양한 고객의 요구를 만족시키기 위해 노력하는지를 상징적으로 보여줍니다. 우리의 목표는 모든 고객들이 그들의 잠재력을 최대한 발휘할 수 있도록 돕는 것입니다.\n",
      "\n",
      "슬라이드 3으로 넘어가겠습니다. 이 슬라이드에는 오렌지색 꽃이 있는 들판에 앉아 있는 두 마리의 골든 리트리버 강아지가 있습니다. 한 마리는 헐떡이고, 다른 한 마리는 옆을 보고 있습니다. 이 이미지에서는 우리 서비스가 고객들에게 안정성과 친근함을 제공한다는 메시지를 전달하고 있습니다. 골든 리트리버의 자연스럽고 신뢰할 수 있는 모습은 고객과의 긴밀한 협력을 상징합니다. \n",
      "\n",
      "이러한 이미지를 통해 저희 미리컴퍼니가 어떻게 고객들과 소통하고, 그들의 요구와 바람을 반영하기 위해 지속적으로 노력하는지를 보여드리고자 합니다. \n",
      "\n",
      "여기까지가 저희의 간략한 소개였으며, 이후 질문이나 토론이 필요하신 부분이 있다면 주저하지 말고 말씀해 주세요. 감사합니다."
     ]
    }
   ],
   "source": [
    "from openai import OpenAI\n",
    "\n",
    "client = OpenAI(api_key=api_key)\n",
    "\n",
    "text = \"\"\"--- Slide 1 ---\n",
    "\n",
    "MIRICOMPANY\n",
    "2023105744\n",
    "Simple\n",
    "simple test\n",
    "Text\n",
    "\n",
    "--- Slide 2 ---\n",
    "\n",
    "A vibrant field of tulips in various shades of red, yellow, and white, with some flowers in full bloom and others still budding.\n",
    "#2\n",
    "\n",
    "--- Slide 3 ---\n",
    "\n",
    "Two golden retriever puppies are sitting in a field with orange flowers, one is panting and the other is looking to the side.\"\"\"\n",
    "\n",
    "prompt = f\"\"\"\n",
    "You are an assistant that generates scripts for presentations. Given the content from a PowerPoint slide deck, create a script for the presenter to use. \n",
    "\n",
    "The content of the slides is as follows:\n",
    "\n",
    "{text}\n",
    "\n",
    "Please write a detailed, engaging script tailored to the given slides.\n",
    "answer in korean\"\"\"\n",
    "\n",
    "stream = client.chat.completions.create(\n",
    "    model=\"gpt-4o\",\n",
    "    messages=[{\"role\": \"user\", \"content\": prompt}],\n",
    "    stream=True,\n",
    ")\n",
    "\n",
    "for chunk in stream:\n",
    "    if chunk.choices[0].delta.content is not None:\n",
    "        print(chunk.choices[0].delta.content, end=\"\")"
   ]
  }
 ],
 "metadata": {
  "kernelspec": {
   "display_name": "ppt",
   "language": "python",
   "name": "python3"
  },
  "language_info": {
   "codemirror_mode": {
    "name": "ipython",
    "version": 3
   },
   "file_extension": ".py",
   "mimetype": "text/x-python",
   "name": "python",
   "nbconvert_exporter": "python",
   "pygments_lexer": "ipython3",
   "version": "3.11.10"
  }
 },
 "nbformat": 4,
 "nbformat_minor": 2
}
